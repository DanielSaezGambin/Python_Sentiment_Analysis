{
 "cells": [
  {
   "cell_type": "code",
   "execution_count": 54,
   "metadata": {},
   "outputs": [],
   "source": [
    "import pandas as pd\n",
    "import numpy as np\n",
    "import matplotlib.pyplot as plt\n",
    "import seaborn as sns\n",
    "plt.style.use('ggplot')\n",
    "import nltk\n",
    "from nltk.tokenize import word_tokenize\n",
    "from textblob import TextBlob\n",
    "from tqdm import tqdm\n",
    "from nltk.sentiment import SentimentIntensityAnalyzer\n",
    "from nltk.util import ngrams\n",
    "from nltk.corpus import stopwords\n",
    "from nltk.probability import FreqDist\n",
    "import string"
   ]
  },
  {
   "cell_type": "markdown",
   "metadata": {},
   "source": [
    "About Dataset\n",
    "This dataset contains information about the reviews given by netflix users on Google Play Store. Apart from the reviews, \n",
    "it also contains information about the ratings and the date of review as well as the likes on each of the review.\n",
    "\n",
    "What we are going to do is to perform a sentiment analisys using the Natural Language Analysis with Python toolkit (NLTK) "
   ]
  },
  {
   "cell_type": "code",
   "execution_count": 55,
   "metadata": {},
   "outputs": [
    {
     "name": "stdout",
     "output_type": "stream",
     "text": [
      "(118904, 8)\n",
      "<class 'pandas.core.frame.DataFrame'>\n",
      "RangeIndex: 118904 entries, 0 to 118903\n",
      "Data columns (total 8 columns):\n",
      " #   Column                Non-Null Count   Dtype \n",
      "---  ------                --------------   ----- \n",
      " 0   reviewId              118904 non-null  object\n",
      " 1   userName              118902 non-null  object\n",
      " 2   content               118901 non-null  object\n",
      " 3   score                 118904 non-null  int64 \n",
      " 4   thumbsUpCount         118904 non-null  int64 \n",
      " 5   reviewCreatedVersion  100883 non-null  object\n",
      " 6   at                    118904 non-null  object\n",
      " 7   appVersion            100883 non-null  object\n",
      "dtypes: int64(2), object(6)\n",
      "memory usage: 7.3+ MB\n",
      "None\n"
     ]
    }
   ],
   "source": [
    "# Reading the file\n",
    "df = pd.read_csv(\"netflix_reviews.csv\")\n",
    "print(df.shape)\n",
    "# We have 118904 rows (or app reviews) and 8 variables\n",
    "print(df.info())"
   ]
  },
  {
   "cell_type": "code",
   "execution_count": 56,
   "metadata": {},
   "outputs": [
    {
     "data": {
      "text/html": [
       "<div>\n",
       "<style scoped>\n",
       "    .dataframe tbody tr th:only-of-type {\n",
       "        vertical-align: middle;\n",
       "    }\n",
       "\n",
       "    .dataframe tbody tr th {\n",
       "        vertical-align: top;\n",
       "    }\n",
       "\n",
       "    .dataframe thead th {\n",
       "        text-align: right;\n",
       "    }\n",
       "</style>\n",
       "<table border=\"1\" class=\"dataframe\">\n",
       "  <thead>\n",
       "    <tr style=\"text-align: right;\">\n",
       "      <th></th>\n",
       "      <th>reviewId</th>\n",
       "      <th>userName</th>\n",
       "      <th>content</th>\n",
       "      <th>score</th>\n",
       "      <th>thumbsUpCount</th>\n",
       "      <th>reviewCreatedVersion</th>\n",
       "      <th>at</th>\n",
       "      <th>appVersion</th>\n",
       "    </tr>\n",
       "  </thead>\n",
       "  <tbody>\n",
       "    <tr>\n",
       "      <th>0</th>\n",
       "      <td>fad76646-9d91-47d6-ae0e-f34d65722100</td>\n",
       "      <td>Usman Pk</td>\n",
       "      <td>Ok</td>\n",
       "      <td>5</td>\n",
       "      <td>0</td>\n",
       "      <td>NaN</td>\n",
       "      <td>2024-11-11 13:16:56</td>\n",
       "      <td>NaN</td>\n",
       "    </tr>\n",
       "    <tr>\n",
       "      <th>1</th>\n",
       "      <td>689ea35c-4290-4b6f-ba50-b3f5e883126c</td>\n",
       "      <td>Alexander Jiménez</td>\n",
       "      <td>I think this is an amazing app u can watch man...</td>\n",
       "      <td>4</td>\n",
       "      <td>0</td>\n",
       "      <td>8.139.1 build 24 51108</td>\n",
       "      <td>2024-11-11 13:10:12</td>\n",
       "      <td>8.139.1 build 24 51108</td>\n",
       "    </tr>\n",
       "    <tr>\n",
       "      <th>2</th>\n",
       "      <td>180f6abf-02d1-4e26-9061-307bff63d93d</td>\n",
       "      <td>Darius Blizzard</td>\n",
       "      <td>Great app, just can't play Into the dead 2: Un...</td>\n",
       "      <td>4</td>\n",
       "      <td>0</td>\n",
       "      <td>8.139.1 build 24 51108</td>\n",
       "      <td>2024-11-11 13:09:26</td>\n",
       "      <td>8.139.1 build 24 51108</td>\n",
       "    </tr>\n",
       "    <tr>\n",
       "      <th>3</th>\n",
       "      <td>b30ae633-ed3b-4ebd-a8b4-4d9ff929f6de</td>\n",
       "      <td>Nathan Shotter</td>\n",
       "      <td>Real ii64</td>\n",
       "      <td>5</td>\n",
       "      <td>0</td>\n",
       "      <td>8.139.1 build 24 51108</td>\n",
       "      <td>2024-11-11 13:07:39</td>\n",
       "      <td>8.139.1 build 24 51108</td>\n",
       "    </tr>\n",
       "    <tr>\n",
       "      <th>4</th>\n",
       "      <td>9cf63d64-30df-448d-bfa5-58aa8aae8d1c</td>\n",
       "      <td>Masego Mnguni</td>\n",
       "      <td>I love Netflix it has serious and movies</td>\n",
       "      <td>5</td>\n",
       "      <td>0</td>\n",
       "      <td>NaN</td>\n",
       "      <td>2024-11-11 13:01:28</td>\n",
       "      <td>NaN</td>\n",
       "    </tr>\n",
       "  </tbody>\n",
       "</table>\n",
       "</div>"
      ],
      "text/plain": [
       "                               reviewId           userName  \\\n",
       "0  fad76646-9d91-47d6-ae0e-f34d65722100           Usman Pk   \n",
       "1  689ea35c-4290-4b6f-ba50-b3f5e883126c  Alexander Jiménez   \n",
       "2  180f6abf-02d1-4e26-9061-307bff63d93d    Darius Blizzard   \n",
       "3  b30ae633-ed3b-4ebd-a8b4-4d9ff929f6de     Nathan Shotter   \n",
       "4  9cf63d64-30df-448d-bfa5-58aa8aae8d1c      Masego Mnguni   \n",
       "\n",
       "                                             content  score  thumbsUpCount  \\\n",
       "0                                                 Ok      5              0   \n",
       "1  I think this is an amazing app u can watch man...      4              0   \n",
       "2  Great app, just can't play Into the dead 2: Un...      4              0   \n",
       "3                                          Real ii64      5              0   \n",
       "4           I love Netflix it has serious and movies      5              0   \n",
       "\n",
       "     reviewCreatedVersion                   at              appVersion  \n",
       "0                     NaN  2024-11-11 13:16:56                     NaN  \n",
       "1  8.139.1 build 24 51108  2024-11-11 13:10:12  8.139.1 build 24 51108  \n",
       "2  8.139.1 build 24 51108  2024-11-11 13:09:26  8.139.1 build 24 51108  \n",
       "3  8.139.1 build 24 51108  2024-11-11 13:07:39  8.139.1 build 24 51108  \n",
       "4                     NaN  2024-11-11 13:01:28                     NaN  "
      ]
     },
     "execution_count": 56,
     "metadata": {},
     "output_type": "execute_result"
    }
   ],
   "source": [
    "#Showing the first 5 rows\n",
    "df.head()"
   ]
  },
  {
   "cell_type": "code",
   "execution_count": 57,
   "metadata": {},
   "outputs": [
    {
     "name": "stdout",
     "output_type": "stream",
     "text": [
      "reviewId                    0\n",
      "userName                    2\n",
      "content                     3\n",
      "score                       0\n",
      "thumbsUpCount               0\n",
      "reviewCreatedVersion    18021\n",
      "at                          0\n",
      "appVersion              18021\n",
      "dtype: int64\n"
     ]
    }
   ],
   "source": [
    "# Checking for null values\n",
    "print(df.isnull().sum())"
   ]
  },
  {
   "cell_type": "code",
   "execution_count": 58,
   "metadata": {},
   "outputs": [
    {
     "name": "stdout",
     "output_type": "stream",
     "text": [
      "reviewId                    0\n",
      "userName                    0\n",
      "content                     0\n",
      "score                       0\n",
      "thumbsUpCount               0\n",
      "reviewCreatedVersion    18021\n",
      "at                          0\n",
      "appVersion              18021\n",
      "dtype: int64\n"
     ]
    }
   ],
   "source": [
    "# Replacing null values for 'UserName' and 'Content' columns\n",
    "df.loc[df[\"userName\"].isnull(), \"userName\"] = \"Unknown user\"\n",
    "df.loc[df[\"content\"].isnull(), \"content\"] = \" \"\n",
    "print(df.isnull().sum())"
   ]
  },
  {
   "cell_type": "markdown",
   "metadata": {},
   "source": [
    "Método Vader"
   ]
  },
  {
   "cell_type": "code",
   "execution_count": 59,
   "metadata": {},
   "outputs": [
    {
     "data": {
      "text/plain": [
       "\"I think this is an amazing app u can watch many series and movies no ads, it one problem tho, sometimes movies are being taken away from Netflix and then we can't watch them again but apart from that it's a great app\""
      ]
     },
     "execution_count": 59,
     "metadata": {},
     "output_type": "execute_result"
    }
   ],
   "source": [
    "# Displaying the content of the second review\n",
    "df[\"content\"].values[1]"
   ]
  },
  {
   "cell_type": "markdown",
   "metadata": {},
   "source": []
  },
  {
   "cell_type": "markdown",
   "metadata": {},
   "source": [
    "QUICK EDA"
   ]
  },
  {
   "cell_type": "code",
   "execution_count": 60,
   "metadata": {},
   "outputs": [
    {
     "name": "stdout",
     "output_type": "stream",
     "text": [
      "['C:\\\\Users\\\\saezg/nltk_data', 'c:\\\\Users\\\\saezg\\\\anaconda3\\\\nltk_data', 'c:\\\\Users\\\\saezg\\\\anaconda3\\\\share\\\\nltk_data', 'c:\\\\Users\\\\saezg\\\\anaconda3\\\\lib\\\\nltk_data', 'C:\\\\Users\\\\saezg\\\\AppData\\\\Roaming\\\\nltk_data', 'C:\\\\nltk_data', 'D:\\\\nltk_data', 'E:\\\\nltk_data']\n"
     ]
    },
    {
     "data": {
      "image/png": "[encoded data removed]",
      "text/plain": [
       "<Figure size 640x480 with 1 Axes>"
      ]
     },
     "metadata": {},
     "output_type": "display_data"
    }
   ],
   "source": [
    "# Count of reviews by rating (stars)\n",
    "df[\"score\"].value_counts().sort_index().plot(kind=\"bar\", title=\"Count of Reviews by Stars\",xlabel = \"Number of Stars\")\n",
    "print(nltk.data.path)"
   ]
  },
  {
   "cell_type": "markdown",
   "metadata": {},
   "source": [
    "# Basic NLTK example"
   ]
  },
  {
   "cell_type": "code",
   "execution_count": 61,
   "metadata": {},
   "outputs": [
    {
     "name": "stdout",
     "output_type": "stream",
     "text": [
      "No update of new movies and series.\n"
     ]
    },
    {
     "data": {
      "text/plain": [
       "['No', 'update', 'of', 'new', 'movies', 'and', 'series', '.']"
      ]
     },
     "execution_count": 61,
     "metadata": {},
     "output_type": "execute_result"
    }
   ],
   "source": [
    "# Basic NLTK example\n",
    "example = df[\"content\"][50]\n",
    "print(example)\n",
    "\n",
    "# Tokenizing the example review\n",
    "tokens = nltk.word_tokenize(example)\n",
    "tokens\n",
    "\n"
   ]
  },
  {
   "cell_type": "code",
   "execution_count": 62,
   "metadata": {},
   "outputs": [
    {
     "data": {
      "text/plain": [
       "[('No', 'DT'),\n",
       " ('update', 'NN'),\n",
       " ('of', 'IN'),\n",
       " ('new', 'JJ'),\n",
       " ('movies', 'NNS'),\n",
       " ('and', 'CC'),\n",
       " ('series', 'NN'),\n",
       " ('.', '.')]"
      ]
     },
     "execution_count": 62,
     "metadata": {},
     "output_type": "execute_result"
    }
   ],
   "source": [
    "# Tagging words according to their type (Part-of-Speech tagging)\n",
    "tagged = nltk.pos_tag(tokens)\n",
    "tagged"
   ]
  },
  {
   "cell_type": "code",
   "execution_count": 63,
   "metadata": {},
   "outputs": [
    {
     "name": "stdout",
     "output_type": "stream",
     "text": [
      "(S No/DT update/NN of/IN new/JJ movies/NNS and/CC series/NN ./.)\n"
     ]
    }
   ],
   "source": [
    "# Named entity recognition\n",
    "entities = nltk.chunk.ne_chunk(tagged)\n",
    "entities.pprint()\n"
   ]
  },
  {
   "cell_type": "markdown",
   "metadata": {},
   "source": [
    "We started using VADER.\n",
    "Each word has a positive, negative, or neutral association, and by evaluating the set as a whole, it analyzes the sentiment of the sentence.\""
   ]
  },
  {
   "cell_type": "code",
   "execution_count": 64,
   "metadata": {},
   "outputs": [],
   "source": [
    "# Initializing the SentimentIntensityAnalyzer\n",
    "sia = SentimentIntensityAnalyzer()"
   ]
  },
  {
   "cell_type": "code",
   "execution_count": 65,
   "metadata": {},
   "outputs": [
    {
     "data": {
      "text/plain": [
       "{'neg': 0.073, 'neu': 0.758, 'pos': 0.169, 'compound': 0.765}"
      ]
     },
     "execution_count": 65,
     "metadata": {},
     "output_type": "execute_result"
    }
   ],
   "source": [
    "# Checking polarity scores for sample texts\n",
    "sia.polarity_scores(df[\"content\"].values[1])"
   ]
  },
  {
   "cell_type": "code",
   "execution_count": 66,
   "metadata": {},
   "outputs": [],
   "source": [
    "# Running the polarity score on the entire dataset\n",
    "res = {}\n",
    "for i, row in df.iterrows():\n",
    "    text = row[\"content\"]\n",
    "    myid = row[\"reviewId\"]\n",
    "    res[myid] = sia.polarity_scores(text)\n",
    "\n"
   ]
  },
  {
   "cell_type": "code",
   "execution_count": 67,
   "metadata": {},
   "outputs": [
    {
     "data": {
      "text/html": [
       "<div>\n",
       "<style scoped>\n",
       "    .dataframe tbody tr th:only-of-type {\n",
       "        vertical-align: middle;\n",
       "    }\n",
       "\n",
       "    .dataframe tbody tr th {\n",
       "        vertical-align: top;\n",
       "    }\n",
       "\n",
       "    .dataframe thead th {\n",
       "        text-align: right;\n",
       "    }\n",
       "</style>\n",
       "<table border=\"1\" class=\"dataframe\">\n",
       "  <thead>\n",
       "    <tr style=\"text-align: right;\">\n",
       "      <th></th>\n",
       "      <th>reviewId</th>\n",
       "      <th>neg</th>\n",
       "      <th>neu</th>\n",
       "      <th>pos</th>\n",
       "      <th>compound</th>\n",
       "      <th>userName</th>\n",
       "      <th>content</th>\n",
       "      <th>score</th>\n",
       "      <th>thumbsUpCount</th>\n",
       "      <th>reviewCreatedVersion</th>\n",
       "      <th>at</th>\n",
       "      <th>appVersion</th>\n",
       "    </tr>\n",
       "  </thead>\n",
       "  <tbody>\n",
       "    <tr>\n",
       "      <th>0</th>\n",
       "      <td>fad76646-9d91-47d6-ae0e-f34d65722100</td>\n",
       "      <td>0.000</td>\n",
       "      <td>0.000</td>\n",
       "      <td>1.000</td>\n",
       "      <td>0.2960</td>\n",
       "      <td>Usman Pk</td>\n",
       "      <td>Ok</td>\n",
       "      <td>5</td>\n",
       "      <td>0</td>\n",
       "      <td>NaN</td>\n",
       "      <td>2024-11-11 13:16:56</td>\n",
       "      <td>NaN</td>\n",
       "    </tr>\n",
       "    <tr>\n",
       "      <th>1</th>\n",
       "      <td>689ea35c-4290-4b6f-ba50-b3f5e883126c</td>\n",
       "      <td>0.073</td>\n",
       "      <td>0.758</td>\n",
       "      <td>0.169</td>\n",
       "      <td>0.7650</td>\n",
       "      <td>Alexander Jiménez</td>\n",
       "      <td>I think this is an amazing app u can watch man...</td>\n",
       "      <td>4</td>\n",
       "      <td>0</td>\n",
       "      <td>8.139.1 build 24 51108</td>\n",
       "      <td>2024-11-11 13:10:12</td>\n",
       "      <td>8.139.1 build 24 51108</td>\n",
       "    </tr>\n",
       "    <tr>\n",
       "      <th>2</th>\n",
       "      <td>180f6abf-02d1-4e26-9061-307bff63d93d</td>\n",
       "      <td>0.233</td>\n",
       "      <td>0.584</td>\n",
       "      <td>0.183</td>\n",
       "      <td>-0.1955</td>\n",
       "      <td>Darius Blizzard</td>\n",
       "      <td>Great app, just can't play Into the dead 2: Un...</td>\n",
       "      <td>4</td>\n",
       "      <td>0</td>\n",
       "      <td>8.139.1 build 24 51108</td>\n",
       "      <td>2024-11-11 13:09:26</td>\n",
       "      <td>8.139.1 build 24 51108</td>\n",
       "    </tr>\n",
       "    <tr>\n",
       "      <th>3</th>\n",
       "      <td>b30ae633-ed3b-4ebd-a8b4-4d9ff929f6de</td>\n",
       "      <td>0.000</td>\n",
       "      <td>1.000</td>\n",
       "      <td>0.000</td>\n",
       "      <td>0.0000</td>\n",
       "      <td>Nathan Shotter</td>\n",
       "      <td>Real ii64</td>\n",
       "      <td>5</td>\n",
       "      <td>0</td>\n",
       "      <td>8.139.1 build 24 51108</td>\n",
       "      <td>2024-11-11 13:07:39</td>\n",
       "      <td>8.139.1 build 24 51108</td>\n",
       "    </tr>\n",
       "    <tr>\n",
       "      <th>4</th>\n",
       "      <td>9cf63d64-30df-448d-bfa5-58aa8aae8d1c</td>\n",
       "      <td>0.124</td>\n",
       "      <td>0.476</td>\n",
       "      <td>0.400</td>\n",
       "      <td>0.5994</td>\n",
       "      <td>Masego Mnguni</td>\n",
       "      <td>I love Netflix it has serious and movies</td>\n",
       "      <td>5</td>\n",
       "      <td>0</td>\n",
       "      <td>NaN</td>\n",
       "      <td>2024-11-11 13:01:28</td>\n",
       "      <td>NaN</td>\n",
       "    </tr>\n",
       "  </tbody>\n",
       "</table>\n",
       "</div>"
      ],
      "text/plain": [
       "                               reviewId    neg    neu    pos  compound  \\\n",
       "0  fad76646-9d91-47d6-ae0e-f34d65722100  0.000  0.000  1.000    0.2960   \n",
       "1  689ea35c-4290-4b6f-ba50-b3f5e883126c  0.073  0.758  0.169    0.7650   \n",
       "2  180f6abf-02d1-4e26-9061-307bff63d93d  0.233  0.584  0.183   -0.1955   \n",
       "3  b30ae633-ed3b-4ebd-a8b4-4d9ff929f6de  0.000  1.000  0.000    0.0000   \n",
       "4  9cf63d64-30df-448d-bfa5-58aa8aae8d1c  0.124  0.476  0.400    0.5994   \n",
       "\n",
       "            userName                                            content  \\\n",
       "0           Usman Pk                                                 Ok   \n",
       "1  Alexander Jiménez  I think this is an amazing app u can watch man...   \n",
       "2    Darius Blizzard  Great app, just can't play Into the dead 2: Un...   \n",
       "3     Nathan Shotter                                          Real ii64   \n",
       "4      Masego Mnguni           I love Netflix it has serious and movies   \n",
       "\n",
       "   score  thumbsUpCount    reviewCreatedVersion                   at  \\\n",
       "0      5              0                     NaN  2024-11-11 13:16:56   \n",
       "1      4              0  8.139.1 build 24 51108  2024-11-11 13:10:12   \n",
       "2      4              0  8.139.1 build 24 51108  2024-11-11 13:09:26   \n",
       "3      5              0  8.139.1 build 24 51108  2024-11-11 13:07:39   \n",
       "4      5              0                     NaN  2024-11-11 13:01:28   \n",
       "\n",
       "               appVersion  \n",
       "0                     NaN  \n",
       "1  8.139.1 build 24 51108  \n",
       "2  8.139.1 build 24 51108  \n",
       "3  8.139.1 build 24 51108  \n",
       "4                     NaN  "
      ]
     },
     "execution_count": 67,
     "metadata": {},
     "output_type": "execute_result"
    }
   ],
   "source": [
    "# Converting to dataframe and merging it with the original dataframe by 'reviewId'\n",
    "vaders = pd.DataFrame(res).T\n",
    "vaders = vaders.reset_index().rename(columns={\"index\": \"reviewId\"})\n",
    "vaders = vaders.merge(df, how=\"left\")\n",
    "vaders.head()\n"
   ]
  },
  {
   "cell_type": "code",
   "execution_count": 68,
   "metadata": {},
   "outputs": [
    {
     "data": {
      "image/png": "[encoded data removed]",
      "text/plain": [
       "<Figure size 640x480 with 1 Axes>"
      ]
     },
     "metadata": {},
     "output_type": "display_data"
    },
    {
     "data": {
      "image/png": "[encoded data removed]",
      "text/plain": [
       "<Figure size 1200x300 with 3 Axes>"
      ]
     },
     "metadata": {},
     "output_type": "display_data"
    }
   ],
   "source": [
    "# Plotting VADER results\n",
    "ax = sns.barplot(data=vaders, x=\"score\", y=\"compound\")\n",
    "ax.set_title(\"Compound score by Netflix\")\n",
    "fig, axs = plt.subplots(1, 3, figsize=(12, 3))\n",
    "sns.barplot(data=vaders, x=\"score\", y=\"pos\", ax=axs[0], hue = \"score\", legend=False, palette=\"coolwarm\")\n",
    "sns.barplot(data=vaders, x=\"score\", y=\"neu\", ax=axs[1], hue = \"score\", legend=False, palette=\"coolwarm\")\n",
    "sns.barplot(data=vaders, x=\"score\", y=\"neg\", ax=axs[2], hue = \"score\", legend=False, palette=\"coolwarm\")\n",
    "axs[0].set_title(\"Positive\")\n",
    "axs[1].set_title(\"Neutral\")\n",
    "axs[2].set_title(\"Negative\")\n",
    "plt.tight_layout()\n",
    "plt.show()\n"
   ]
  },
  {
   "cell_type": "code",
   "execution_count": 69,
   "metadata": {},
   "outputs": [
    {
     "name": "stdout",
     "output_type": "stream",
     "text": [
      "['worst', 'always', 'crashing', 'on', 'mobile', 'error', 'platform', 'removed', 'gcash', 'payment', ':', '<', 'very', 'bad', 'app', 'i', 'hate', 'this', 'app', 'so', 'much', 'f', '*', '*', '*', 'worst', 'app', 'it', 'show', 'error', '5.8', 'what', \"'s\", 'the', 'problem', 'utterly', 'useless', '!', 'download', 'problem', 'no', 'kannada', 'language', 'so', 'disappointed', 'bad', 'scam', 'bc', 'very', 'bad', 'total', 'disaster', 'boycott', 'themmm', 'bad', 'no', 'oky', 'no', 'tamil', 'audio', 'bad', 'it', \"'s\", 'always', 'lagging', 'bad', 'quality', 'service', 'not', 'worked', 'good', 'absolutely', '💯', '%', 'rubbish', '🗑', 'app', 'avoid', 'not', 'good', 'disgusting', 'third', 'class', 'aap', 'so', 'bad', 'sign', 'in', 'problem', 'became', 'so', 'bad', 'just', 'not', 'worth', '1', 'cent', 'worst', 'app', 'i', 'have', 'ever', 'used', '.', 'bad', 'application', 'bad', 'useless', 'bad', 'app', 'the', 'worst', 'file', 'disturb', 'crash', 'bad', 'worst', 'not', 'special', 'subtitle', 'sinhala', 'no', '👎', 'i', \"'m\", 'just', 'disappointed', 'no', 'addssssssss', 'crash', '.', 'stops', '.', 'with', 'sound', 'but', 'no', 'vid', '.', 'same', 'problem', 'with', 'other', 'very', 'bad', 'waste', 'app', 'disgusting', 'content', '🤮', 'however', 'it', \"'s\", 'paid', 'disgusting', 'content', '🤦🏻\\u200d♂️', 'not', 'good', 'boycott', 'netflix', 'bakwas', 'greedy', 'company', 'restless', 'worst', 'experience', 'bad', 'not', 'the', 'best', 'worst', 'app', 'boycott', 'netflix', '#', 'freeplestine', 'worst', 'app', '🍉', 'poor', 'fake', 'no', 'kannada', 'content', '.', 'no', 'comment', 'worst', 'streaming', 'app', 'boycott', 'genocide', 'worst', 'app', 'biased', 'platform', 'meh', 'bad', 'devolopers👎👎', 'so', 'bad', 'difficult', 'to', 'sign', 'in', 'very', 'bad', 'bad', 'poor', 'scripts', ',', 'violent', 'content', 'no', 'offer', 'worst', 'app', 'greedy', 'worst', 'not', 'interested', 'fake', '🤬😠', 'paid', '😡', 'terrible', 'company', '.', 'its', 'very', 'bad', 'very', 'bad', 'app', 'worst', 'app', 'i', 'have', 'ever', 'seen', 'experiencing', 'error', 'anti', 'indian', 'propoganda', 'filler', 'fool', 'i', 'hate', 'signing', 'in', 'very', 'poor', 'app', 'disgusting', 'waste', 'not', 'good', 'it', \"'s\", 'supporting', 'the', 'killers', '!', '!', '!', 'very', 'bad', 'app', 'ca', \"n't\", 'play', 'movies', '😠', 'verify', 'unsatisfied', 'sucks', 'this', 'app', 'is', 'greedy', 'hogs', 'sociopath', 'narcist', 'liability', 'irresponsible', 'stooges', 'maggots', 'morons', 'trssh', '🗑️🗑️🗑️🗑️🗑️🗑️🗑️🗑️🗑️🗑️🗑️🗑️🗑️🗑️🗑️🗑️🗑️🗑️🗑️🗑️🗑️🗑️🗑️🗑️🗑️🗑️🗑️🗑️🗑️🗑️🗑️🗑️🗑️🗑️🗑️🗑️🗑️🗑️🗑️🗑️🗑️🗑️', 'not', 'free', 'no', 'disc', 'very', 'bad', 'app', 'no', 'one', 'worst', 'appa', 'do', \"n't\", 'download', 'very', 'poor', 'app', 'video', 'stuck', 'wasted', 'broken', 'pos', 'i', 'hate', 'paying', 'unwanted', 'app', 'meh', 'poor', 'this', 'very', 'bad', 'app😡😡😡😡😡😡😡😡😡', 'stop', 'working', 'waste', 'and', 'worst', 'anti', 'hindu', ',', 'nd', 'anti', 'india', 'app', '.', 'worst', 'i', 'hate', 'the', 'new', 'ads', '.', 'bad', 'it', 'suck', 'the', 'worst', 'ever', 'is', 'a', 'bad', 'worst', 'app', 'getting', '1002', 'error', 'retarded', 'company', '.', 'worst', 'experience', '😔', 'waste', 'of', 'time', 'very', 'very', 'bad', 'bad', 'always', 'lag', '.', 'worst', 'pricing', '&', 'apo', 'management', 'bad', 'mood', 'bad', 'very', 'bad', '😞', 'bad', 'service', 'bad', 'bad', 'bad', 'bad', 'bad', 'bad', 'bad', 'bad', 'app', 'this', 'not', 'work', 'properly', '😔😔😔😔😔', 'stupid', 'netflix', 'no', 'login', 'very', 'poor', 'it', 'deleted', 'card', 'captor', 'sakura', 'damn', 'netflix', '>', ':', '(', 'δ_δ', 'the', 'choices', 'suck', 'go', 'piss', 'off', 'bad', ',', 'terrible', '!', 'full', 'stop', '.', 'stupid', 'app', 'not', 'good', 'app', 'too', 'expensive', 'and', 'cancelling', 'is', 'a', 'problem', 'boring', 'aap', 'very', 'costly', 'technical', 'problem', '😔', 'not', 'good', 'app', 'make', 'shameless', 'downloadable', '!', '!', 'bad', 'it', \"'s\", 'always', 'lagging', 'i', 'hate', 'netflix', 'problem', '5.10', 'problem', 'plz', 'slove', 'the', 'problem', 'very', 'bad', '.', 'lost', 'my', 'netflix', '?', 'is', 'so', 'bad', 'is', 'not', 'free', 'very', 'poor', 'because', 'very', 'bad', 'idk', 'bad', 'useless', 'no', 'does', 'not', '.', 'awful', 'changes', 'to', 'the', 'plans', '!', '!', '!', 'absolutely', 'awful', '!', 'very', 'badass', 'no', 'new', 'movies/webseries', 'no', 'marval', 'movies', 'failed', 'system', 'never', 'an', 'issue', 'love', 'poor', 'conection', 'the', 'worst', 'app', 'ever', 'no', 'experience', '.', 'sucks', 'no', 'downloads', 'for', 'windows', 'bad', 'choice', 'netflix', 'always', 'show', 'error', 'boycott', 'sorry', 'magan', '😐', 'bad', 'worst', 'its', 'bad', 'hgch7giv', 'i', \"'m\", 'not', 'satisfied', '.', 'not', 'good', 'terrible', 'app', 'very', 'bad', 'all', 'films', 'fail', 'very', 'lower', 'speed', 'boycott', 'netflix', 'useless', 'app', 'not', 'good', 'app', 'very', 'bad', 'experience', 'it', 'keeps', 'on', 'stopping', 'stopping', 'trouble', 'in', 'the', 'worst', 'user', 'interface', 'ever', '.', 'showing', 'problem', '5.8', ',', '😡', 'useless', 'bad', 'you', \"'re\", 'so', 'unfair', 'stinks', 'login', 'keeps', 'failing', 'child', 'abuse', 'not', 'good', 'aap', 'error', 'worst', 'very', 'very', 'very', 'bad', '👎', '😕', '😞', '😑', 'bad', 'not', 'happy', 'yet', 'ban', 'maharaj', 'anti', 'hindu', '!', 'do', \"n't\", 'like', 'it', 'very', 'bad', 'disaster', '.', 'i', 'do', \"n't\", 'recommend', '!', 'cancel', 'the', 'subscription', 'amount', 'worst', 'app', 'nonsense', 'stop', 'making', 'bad', 'shows👎👎👎', 'very', 'bad', 'experience', 'overall', '.', 'hate', '😤', 'very', 'bad', 'very', 'greedy', 'it', \"'s\", 'a', 'only', 'earning', 'money', 'very', 'bad', 'very', 'bad', 'very', 'bad', 'very', 'bad', 'very', 'bad', 'very', 'bad', 'very', 'bad', 'anti', 'hindu', 'boycott', 'for', 'posting', 'hindu', 'hatred', 'movies', \"'boycott\", 'netflix', \"'\", ',', \"'ban\", 'maharaj', 'film', \"'\", 'bad', 'experience', 'very', 'worst', 'app', 'very', 'bad', 'boycott', 'netflixmaharaj', 'worst', 'app', 'and', 'worst', 'movie', 'worst', 'app', 'and', 'worst', 'movies', 'selection', 'idk', 'lagging', '.', 'very', 'bad', 'ban', 'maharaj', 'movie😡🤬', 'very', 'bad', 'anti', 'hindu', 'content', 'bad', 'boycott', 'waste', 'app', 'hate', 'speech', 'against', 'hindu', 'greedy', 'company', ',', 'with', 'bad', 'practices', '.', 'not', 'good', 'ban', 'maharaj', 'movie/show', 'it', \"'s\", 'hurt', 'my', 'sentiments', 'or', 'i', 'will', 'stop', 'my', 'subscription', 'not', 'interested', 'you', 'are', 'fraud', 'biased', 'stop', 'portraying', 'hindu', 'in', 'bad', 'light', '#', 'maharaj', 'ban', 'maharaja', 'worst', 'app', 'work', 'on', 'only', 'propaganda', 'also', 'anti', 'hindu', 'worst', 'app', 'ban', 'hinduphobic', 'maharaj', 'film', 'anti', 'hindu', 'netflix', 'anti', '...', 'stop', 'portraging', 'hindus', 'in', 'a', 'bad', 'light', '.', 'very', 'bad', 'experience', 'worst', 'app', 'ever', 'worst', 'ott', 'platform', '.', 'no', 'no', 'bad', 'for', 'kids', 'no', 'space', 'it', \"'s\", 'great', '!', 'no', 'problems', '.', 'poor', 'and', 'useless', 'app', '💩', 'miss', 'you', 'so', 'much', 'blckbuster', ':', '(', 'araf', 'noob', 'very', 'bad', '😞', 'worst', 'app', 'bad', 'extremely', 'hate', 'this', 'stupid', 'app', 'it', 'promoting', 'terrorism', 'netflix', 'is', 'racist', 'very', 'bad', 'app', 'stopped', 'working', 'terrible', ',', 'ca', \"n't\", 'broadcast', 'to', 'tv', ',', 'that', \"'s\", 'a', 'shame', '!', 'worst', 'very', 'disgusting', 'very', 'bad', 'app', '😔😔😔', 'no', 'stars', 'horrible', 'no', 'shows', 'not', 'accept', 'no', 'thanks', '.', 'keep', 'your', 'propaganda', 'boring', 'nonsense', 'woke', 'shiat', 'for', 'yourselves', 'waste', 'of', 'money', 'very', 'bad', 'app', 'error', 'poor', 'feebdback', 'worst', 'ek', 'dum', 'not', 'impressed', 'open', 'app', 'problem', 'very', 'very', 'poor', 'very', 'bad', 'boycott', 'not', 'good', 'so', 'costly', 'worst', 'app', 'idiot', 'box', 'app', 'worst', 'very', 'bad', 'very', 'bad', 'service', 'very', 'poor', 'not', 'responding', 'device', 'error', 'showing', '.....', 'terrible', 'experience', 'no', 'shark', 'tank', 'very', 'bad', 'useless', 'apps', 'waste', 'of', 'time', 'it', \"'s\", 'very', 'bad', 'very', 'bad', 'and', 'expensive', 'worst', 'app', 'i', \"'ve\", 'ever', 'seen', '🥲', 'greedy', 'company', 'bad', 'app', 'for', 'updates', 'bad', 'failed', 'to', 'work', 'gakpo', 'duku', 'po', 'po', 'po', 'very', 'bad', '🤢🤮🤮🤮🖕', 'not', 'nice', 'app', 'poor', 'worst', 'app', 'too', 'costly', 'this', 'is', 'a', 'worst', 'app.do', \"n't\", 'download', 'it', 'please', 'bad', 'bad', 'is', 'very', 'bad', 'apps', 'your', 'app', 'is', 'the', 'worst', 'worst', '.', 'no', 'kannada', 'movies', 'totally', 'useless', 'very', 'bad', 'many', 'problems', 'in', 'this', 'software', 'video', 'not', 'play', 'well', 'i', 'do', \"n't\", 'want', 'to', 'support', 'netflix', 'anymore', '.', 'too', 'greedy', '.', 'technical', 'difficulties', '.', 'worst', 'app', 'ever', '.', 'zero/10', 'rating', 'worst', 'no', 'need', 'any', 'more', '😔😡', 'very', 'bad', 'app', 'login', 'problem', 'useless', 'app', 'i', 'hate', 'this', 'not', 'sure', 'very', 'bad', 'experience', 'error', 'issue', 'greed', ',', 'app', 'sucks', '.', 'keeps', 'stalling', 'no', 'privacy', 'protection', 'delayed', 'content', 'poor', 'no', 'abre', '.', 'bad', 'terrible', 'app', 'i', 'hate', 'it', 'very', 'bad', 'bad', 'very', 'bad', 'very', 'very', 'very', 'bad', 'i', 'hate', 'it', 'i', 'hate', 'it', 'i', 'hate', 'it', 'they', 'had', 'to', 'have', 'the', 'household', 'rule', 'it', 'sucks', 'very', 'bad', 'app', 'terrible', 'app', '.', 'constantly', 'crashes', '.', 'fake', '😠', 'bad', 'company', 'not', 'using', 'friendly', 'not', 'good', 'it', 'sucks', 'now', 'no', 'comment', 'app', 'keep', 'crushing', 'so', 'many', 'problems', 'so', 'bad', ',', 'i', \"'m\", 'getting', 'frustrated', ',', 'this', 'app', 'hate', 'bad', 'intentions', 'poor', 'poor', 'collections', 'not', 'very', 'good', 'meh', 'greedy', 'app', 'weak', 'now', 'waste', 'of', 'time', 'bad', 'no', 'new', 'movies', 'no', 'henry', 'worst', 'app', 'you', 'are', 'disturbing', '.', 'worst', 'app', 'd', 'e', 'e', 'r', 'e', 'r', 'a', 'qq', 'good', 'experience', 'no', 'complaints', 'bloody', 'rubbish', 'a', 'con', 'useless', 'worst', 'app', 'waste', 'of', 'time', '😭', 'boycott', 'very', 'very', 'bad', 'i', 'do', \"n't\", 'like', 'only', 'its', 'payment', 'stuck', 'oi', 'attack', 'boycott', 'netflix', 'overrated', 'pathetic', 'app', 'losers', 'worst', 'app', '..', 'login', 'problem', 'bad', 'digw', 'difficult', 'worst', 'technical', 'support', 'this', 'is', 'the', 'worst', 'bad', 'app', 'very', 'bad', '🤮🤮🤮', 'worst', 'app', 'no', 'kannada', 'no', 'netflix', 'greedy', 'netflix', 'execs', '.', 'stop', 'restricting', 'vpns', '!', 'worst', 'application', 'it', 'boring', 'worst', 'app', 'not', 'good', 'worst', 'app', 'household', 'sucks', 'no', 'shoes', 'very', 'bad', 'stupid', 'apps', 'stupid', 'apps', 'stupid', 'apps', 'stupid', 'apps', ',', 'always', 'have', 'sign', 'in', 'problem', 'stupid', 'apps', ',', 'always', 'have', 'sign', 'in', 'problem', 'stupid', 'apps', ',', 'always', 'have', 'sign', 'in', 'problem', 'terrible', 'immoral', 'worst', 'application', 'worst', 'app', 'do', \"n't\", 'use', 'it', 'worst', 'platform', 'not', 'good', 'wo', \"n't\", 'play', 'anything', '.', 'worst', 'app', 'ever', 'i', 'hate', 'this', 'app', 'i', 'was', 'lo', 'poor', 'very', 'bad', 'stop', 'buying', 'indian', 'flop', 'movies', 'very', 'poor', 'service', 'the', 'worst', 'app', 'ever', 'very', 'bad', 'worst', 'app', '🤮🤢🤮🤢', 'bad', 'bad', 'just', 'bad', 'worst', 'experience', 'ever', 'no', 'thanks', 'corporate', 'greed', 'is', 'ridiculous', 'bad', 'worst', 'ever', 'corporate', 'greed', '3', 'users', 'is', 'a', 'problem', 'drop', 'dead', 'poor', 'customer', 'service', 'very', 'bad', 'this', 'isnt', 'free', 'so', 'i', 'hate', 'this', 'apppp', '?', 'ok', 'i', 'dont', 'like', 'it', 'would', 'not', 'recommend', 'no', 'questions', '.', 'racism', 'and', 'hateful', 'promotion', '.', 'horrible', 'useless', 'application', 'burik', 'anjai', 'lag', 'lag', 'mulu', 'worst', 'application', 'bad', 'it', \"'s\", 'bad', 'this', 'app', 'useless', 'and', 'ca', \"n't\", 'help', 'very', 'bad', 'especially', 'american', 'films', '!', 'worst', 'update', 'i', \"'m\", 'not', 'satisfied', '.', 'worst', 'experience', 'worst', 'experience', 'horrible', 'experience', 'horrible', 'experience', 'terror', 'is', 'coming', 'terror', 'is', 'coming', 'boycott', 'boycott', 'i', 'hate', 'this', ',', 'so', 'bad', 'including', 'the', 'graphics', 'and', 'picture', 'quality', '...', '🤬😡', 'bring', 'back', 'no', 'ads', 'and', 'stop', 'restricting', 'downloads', 'for', 'extra', '$', '...', 'ridiculous', 'third', 'grade', 'application', ',', 'completely', 'useless', 'and', 'irritating', 'hate', 'that', 'i', 'cant', 'adjust', 'the', 'brightness', 'through', 'the', 'quick', 'menu', '.', 'not', 'disability', 'friendly', '.', 'very', 'frustrating', '.', 'bloody', 'basted', 'app', ',', 'not', 'working', 'properly', 'very', 'very', 'bad', 'and', 'worst', 'pathetic', 'experience', 'there', \"'s\", 'no', 'kannada', 'language', 'option', '...', 'such', 'a', 'worst', 'app😡', 'terrible', 'experience', 'with', 'the', 'new', 'household', 'nonsense', '.', 'dislike', 'netflix', 'now', '.', 'most', 'irritating', '&', 'frustrating', '.', 'downloads', 'are', 'broken', '.', 'update', ':', 'still', 'broken', 'bad', 'content', ',', 'bad', 'price', 'ads', 'are', 'added', '.', 'greedy', 'greedy', 'unstable', 'video', 'quality', 'not', 'good', 'now', 'turn', 'block', 'the', 'screen', 'poor', 'service', '....', 'difficulty', 'in', 'log', 'in', '...', 'no', 'longer', 'opens', '.', 'pixel', '5.', 'useless', 'loading', 'problem', 'continuously', 'worst', 'streaming', 'app', 'ever', '.', 'the', 'movies', 'keep', 'lagging', '...', 'i', \"'m\", 'exhausted', 'and', 'regret', 'subscribing', 'worst', 'app', '...', 'without', 'kannada', 'language', 'so', 'disappointed', 'your', 'app', 'does', \"n't\", 'work', 'perfectly', 'disgusted', '!', 'no', 'help', 'options', 'wt', 'problematic', 'tv', 'netflix', 'app', '!', '!', '!', '!', 'netflix', 'video', 'is', 'lagging', '.', 'very', 'bad', 'experience', 'app', 'fails', 'on', 'startup', '.', 'totally', 'broken', '.', 'i', 'ca', \"n't\", 'download', 'it', \"'s\", 'so', 'annoying', 'as', 'hell', 'worst', 'streaming', 'app', 'out', 'there', 'i', 'ca', \"n't\", 'sign-up', 'to', 'netflix', '🤬such', 'a', 'worst', 'app', 'with', 'worst', 'management', 'waste', 'app', ',', 'device', 'failure', 'useless', 'app', 'showing', 'device', 'failure', 'error', 'all', 'the', 'time', 'worst', 'service', 'and', 'worst', 'content', '.', 'nothing', 'like', 'netflix', '...', 'just', 'awesome', '!', '!', '!', '!', 'very', 'problematic', 'to', 'subscribe', 'error', 'error', 'error', '.', '🤦', 'low', 'fps', 'video', 'stuttering', '.', 'still', 'no', 'fix', 'very', 'bad', '.', 'i', 'think', 'i', 'got', 'traumatised', 'mentally', 'physically', '.', 'i', 'do', \"n't\", 'think', 'i', 'can', 'ever', 'recover', 'from', 'this', 'application', 'causing', 'me', 'so', 'much', 'heartache', 'from', 'their', 'bad', 'bad', 'shows', 'and', 'how', 'bad', 'their', 'app', 'is', 'bad', 'bad', 'bad', 'bad', 'bad👎', 'why', 'the', 'hell', 'app', 'is', 'so', 'sluggish', '?', '?', '?', 'bad', 'price', 'and', 'video', 'player', 'sucks', 'worst', 'brightness', 'adjust', 'no', 'adds', 'hate', 'to', 'pay', 'love', 'it', 'keep', 'saying', 'error', 'this', 'is', 'annoying', 'stop', 'complaining', 'about', 'simple', 'things', 'geofencing', 'is', 'just', 'bad', 'worst', 'sign-up', 'experience', 'were', 'bad', 'not', 'at', 'all', 'good', '🙃🙃', 'app', 'widgets', 'disappeared', '?', '!', '!', '!', '!', '!', 'no', 'kannada', 'option', 'in', 'netflix', '.', 'no', 'kannada', 'no', 'businness', '.', 'i', 'dont', 'like', 'it', ',', 'i', 'love', 'it', '!', 'very', 'unstable', ',', 'crashes', 'videos', 'is', 'lagging', 'and', 'pausing', 'bad', 'experience', 'this', 'thing', 'is', 'so', 'annoying', 'it', 'wo', \"n't\", 'download', 'the', 'whole', 'thing', 'is', 'so', 'annoying', '😡😐😠😬😲😭😝👎', 'it', \"'s\", 'so', 'bad', '.', 'really', 'bad', '.', 'hate', 'it', 'worst', 'freaking', 'app', 'ever', 'in', 'history', 'waste', 'of', 'time', 'really', 'annoying', '.', 'and', 'dumb', 'like', 'seriously', '.', 'there', 'we', 'go', 'someone', 'had', 'to', 'say', 'it👎👎👎👎👎👎👎👎💔💔👅👅👅😓😒😥😐😯😢😡😡😡😬😬😬😠😠😠😬😬😠😬😬😠😬😬😬😬😬😬😬😬😬😨😈😱😲😟😔', 'failed', 'to', 'load', '...', 'ca', \"n't\", 'share', 'accounts', 'now', '.', 'greedy', 'company', 'ui', 'is', 'terrible', ',', 'constantly', 'ignoring', 'your', 'commands', 'and', 'frustrating', 'to', 'control', '.', 'just', 'just', 'disturbance', 'total', 'money', 'waste', '.', 'service', 'fraud', '.', 'error', '5.8', 'simulator', '.', 'very', 'bad', 'service', 'not', 'good', 'login', 'terrible', 'app', ',', 'changed', 'language', 'for', 'no', 'reason', ',', 'could', \"n't\", 'speak', 'use', 'it', 'after', 'that', '.', 'subscription', 'cancelled', '.', 'useless', 'company', 'useless', 'app', 'video', 'keeps', 'stuttering', '!', 'time', 'of', 'waste', 'worst', 'app', '.....', 'bill', 'pay', 'hone', 'k', 'baad', 'v', 'error', 'aa', 'reha', 'hai😒😒😡😡🤬🤬', 'worst', 'streaming', 'app', 'very', 'very', 'bad', 'service', 'problem', '(', '5.7.6', ')', 'is', 'annoying', 'no', 'kannada', 'movies', 'worst', 'app', 'no', 'kannada', 'option', '...', 'so', ',', 'no', 'kannada', ',', 'no', 'business', '.', 'very', 'bad', 'app', 'fake', 'app', 'no', 'landscape', 'mode', 'lagging', 'like', 'hell', 'i', 'alr', 'subscribe', 'sia', 'very', 'very', 'bad', 'app', 'wrong', 'aspect', 'ratio', '.', 'stupid', 'netflix', 'does', \"n't\", 'like', 'my', 'gift', 'card', 'tooo', 'much', 'errors', 'netflix', 'is', 'very', 'very', 'very', 'bad', '👎👎', 'completely', 'bad', 'worst', 'streaming', 'service', 'out', 'there', 'netflix', 'error', '5.7.6', 'not', 'solved', '😕', 'only', 'the', 'voice', ',', 'no', 'video', ',', 'what', 'the', 'hell', 'i', 'hate', 'hate', 'hate', 'it', 'my', 'favourite', 'movies', 'are', 'not', 'available', 'please', 'try', 'to', 'fix', 'that', 'worst', 'movies', '.', 'and', 'no', 'updated', 'famous', 'tv', 'shows', 'no', 'kannada', 'movies', '..', 'no', 'netflix', 'i', 'liked', 'the', 'app', '...', 'there', 'was', 'no', 'stopping', ',', 'no', 'unnecessary', 'notifications', ',', 'no', 'burden', 'on', 'storage', ',', 'no', 'buffering', '...', 'everything', \"'s\", 'good', '...', 'keep', 'going', 'cuts', 'off', 'stops', 'play', 'since', 'the', 'update', 'poor', 'to', 'bad', '.', 'no', 'preview', 'and', 'other', 'features', 'are', 'missing', ':', '-', '(', 'really', 'poor', 'movie', 'selection', '.', 'worst', 'service', 'ever', '182', 'error', 'code', ',', 'ca', \"n't\", 'connect', 'to', 'network', 'netflix', 'server', '.', 'nothing', 'helps', '.', 'support', 'is', 'useless', 'useless', 'app', '.', 'does', \"n't\", 'accept', 'debit', 'nor', 'credit', 'card', '.', 'very', 'very', 'very', 'bad', 'customer', 'service', 'the', 'apps', 'its', 'troublesome', ',', 'sometime', 'lagging', ',', 'cant', 'see', 'the', 'video', ',', 'crash', '.', 'not', 'good', 'app', 'so', 'manny', 'errors', 'such', 'bad', 'shows', 'no', 'kannada', 'no', 'netflix', 'that', \"'s\", 'it', 'the', 'ads', 'suck', 'bad', ',', 'annoying', 'app', '.', 'video', 'keeps', 'lagging', 'new', 'update', 'is', 'the', 'worst', 'too', 'expensive', '.', 'too', 'hard', 'to', 'purchase', 'accounts', '.', 'rude', '&', 'arrogant', 'customer', 'service', '.', 'not', 'recommended', '.', 'terrible', 'update', '.', 'netflix', \"'s\", 'ui', 'just', 'keeps', 'getting', 'worse', 'and', 'worse', '.', 'i', 'always', 'have', 'problem', 'when', 'i', 'open', 'the', 'app', '.', 'always', 'crash', '.', 'pissed', 'me', 'off', '!', 'uninstall', '!', 'connection', 'issues', ',', 'downloading', 'stops', 'automatically', ',', 'waste', 'of', 'time', '!', '!', '!', '!', 'does', \"n't\", 'provide', 'the', 'promised', 'video', 'quality', '..', 'liars', '!', 'very', 'bad', '.', 'only', 'black', 'screen', 'display', '.', 'very', 'very', 'disappointed', '.', 'customer', 'assistance', 'is', 'awful', '.', 'no', 'phone', 'assistance', 'and', 'chat', 'assistance', 'is', 'bad', '.', 'speak', 'poor', 'english', ',', 'poor', 'instructions', ',', 'cheap', 'company', '.', 'black', 'screen', 'on', 'fullscreen', '.', 'frustrating', 'and', 'slow', 'as', 'hell', '.', 'not', 'happy', 'netflix', 'nz', '.', 'was', 'halfway', 'through', 'pretty', 'little', 'liars', 'and', 'it', \"'s\", 'disappeared', '.', 'no', 'warning', '.', 'new', 'feature', 'sucks', 'pathetic', 'service', '..', 'error', 'msg', 'shows', 'cant', 'play', 'the', 'file', 'now', '..', 'after', 're', 'installing', 'no', 'response', '..', 'just', 'an', 'error', 'msg', '..', 'whats', 'wrong', '?', '?', 'difficult', 'not', 'impressed', 'by', 'plusnet', 'netflix', 'getting', 'crash', ',', 'not', 'able', 'to', 'play', 'video', '...', 'very', 'disappointing', 'whoever', 'thought', 'having', 'the', 'preview', 'autoplay', 'without', 'the', 'option', 'to', 'turn', 'it', 'off', 'is', 'a', 'moron', '.', 'annoying', 'annoying', 'annoying', 'annoying', 'annoying', 'no', 'kannada', 'language', 'bad', 'image', 'quality', 'poor', 'service', 'ever', 'horrible', 'why', 'do', 'we', 'have', 'to', 'pay', 'so', 'stupid', 'update', 'made', 'useless', '.', 'customer', 'service', 'was', 'useless', '.', 'canceled', '-', 'problem', 'solved', '.', 'absolutely', 'hate', 'the', 'new', 'update', '!', 'every', 'time', 'i', 'get', 'errors', 'device', 'not', 'support', 'and', 'currently', 'not', 'available', '.', 'please', 'solve', 'this', 'problem', '.', 'ruined', 'the', 'app', 'with', 'this', 'new', 'households', 'thing', '👎', 'greedy', 'greedy', 'greedy', 'horrible', 'horrible', 'horrible', 'horrible', 'horrible', 'horrible', 'horrible', ',', 'horrible', 'horrible', ',', 'horrible', ',', 'horrible', 'horrible', 'horrible', '.', 'oh', 'my', 'god', ',', 'horrible', 'and', 'a', 'little', 'bit', 'more', 'of', '.', 'horrible', ',', 'and', 'some', 'more', 'of', 'horrible', ',', 'if', 'i', 'could', 'rate', 'this', 'negative', 'stars', 'i', 'would', 'and', 'horrible', 'horrible', 'horrible', 'horroi', 'horrible', 'rob', ',', 'you', 'horble', ',', 'oh', ',', 'and', 'a', 'little', 'bit', 'more', 'horrible', '.', 'oh', 'my', 'god', ',', 'horble', 'with', 'a', 'little', 'bit', 'of', 'more', 'a', 'horrible', 'edit', 'to', 'the', 'horrible', '.', 'yeah', 'waste', 'money', 'and', 'did', 'i', 'mention', 'horrible', '?', 'less', 'than', 'worthless', 'just', 'absolutely', 'greedy', '.', 'the', 'most', 'rotten', 'and', 'dirtiest', 'application', 'in', 'the', 'world', ',', 'it', 'is', 'a', 'failed', ',', 'failed', ',', 'failed', 'application', 'in', 'the', 'full', 'sense', 'of', 'the', 'word', '❤👌best', 'app', 'no', ':', '1', 'mostly', 'extremely', 'poor', 'low', 'quality', 'and', 'stupid', 'programming', '.', 'ca', \"n't\", 'justify', 'the', 'cost', '.', 'i', 'hate', 'it', 'have', 'to', 'pay', 'r20000', 'poor', 'app.not', 'browsing', 'properly', 'lags', 'too', 'much', 'worst', 'app', ',', 'get', 'payment', 'and', 'every', 'time', 'problem', 'face', '.', 'worthless', 'and', 'not', 'good', 'experience', '.', 'i', 'hate', 'the', 'services', '.', 'beyond', 'terrible', 'atp', 'netflix', 'household', 'ruined', 'it', 'ever', 'worse', 'and', 'worse', '!', 'waste', 'not', 'useful', 'troubling', 'to', 'open', 'strange', 'i', 'am', 'worried', 'its', 'not', 'fixing', 'netflix', 'household', 'sucks', 'error', 'always', 'whenever', 'i', 'play', 'something', 'i', 'saved', 'offline', '.', 'ugh', '.', 'awful', 'app', '.', 'will', 'cancel', 'subscription', '.', 'worst', 'app', 'ever', 'keeps', 'saying', 'ca', \"n't\", 'reach', 'netflix', 'service', '.', 'so', 'annoying', '.', 'worst', 'each', 'day', 'no', 'kannada', 'movies', 'waste', 'app', 'very', 'bad', 'experience', 'worst', 'app', 'not', 'working', 'properly', 'stop', 'spreading', 'hate', 'and', 'stop', 'islamophobia', 'i', 'hate', 'your', 'app', 'for', 'insulting', 'and', 'hurting', 'sentiments', 'of', 'muslims', 'i', 'm', 'so', 'tired', 'to', 'this', 'error', 'why', 'i', 'm', 'so', 'frustrated', 'bcoz', 'of', 'this', 'bad', 'movies', ',', 'unethical', 'movies', ',', 'bad', 'movies', 'thoughts', '!', '!', 'always', 'throws', '-1023', 'error', '.', 'waste', 'of', 'subscription', '.', 'worst', 'app', 'i', 'hv', 'uninstall', 'the', 'aap', 'closed', 'my', 'account', 'but', 'still', 'they', 'are', 'charging', 'us', 'without', 'our', 'permission', 'worst', 'worst', 'worst', 'worst', 'app', 'i', 'have', 'm', 'very', 'dissapointed', 'and', 'frustrated', 'vd', 'this', 'app', 'casting', 'controls', 'keep', 'getting', 'worse', 'and', 'worse', '.', 'trying', 'to', 'connect', 'from', '2days', 'error', 'message', 'wht', 'hell', 'simply', 'waste', 'and', 'worst', 'app', 'bad', 'streaming', 'problem', '.', 'slow', ',', 'slow', 'and', 'slow', 'poor', 'service', '.', 'i', 'ca', \"n't\", 'even', 'log', 'in', '.', 'its', 'error', '!', 'very', 'pathetic', 'performance', ',', 'loader', 'keep', 'on', 'running', 'horrible', 'experience', 'too', 'many', 'ridiculous', 'download', 'errors', 'which', 'ca', \"n't\", 'be', 'solved', '.', 'does', \"n't\", 'help', 'when', 'problem', 'occured', '!', '!', '!', '!', '!', 'bad', 'service', 'error', 'codes', 'and', 'videos', 'wo', \"n't\", 'play', 'very', 'very', 'frustrating', 'disabling', 'the', 'chromecast', 'feature', 'was', 'a', 'terrible', 'idea', '...', 'terrible', 'layout', '.', 'hard', 'to', 'navigate', '.', 'very', 'bad', 'not', 'clear', 'to', 'free', 'subscription', 'with', 'payment', 'mode', 'very', 'very', 'bad', 'app', 'worst', 'useless', 'not', 'accepts', 'payment', 'from', 'anywhere', '.', 'waste', 'and', 'useless', 'i', 'always', 'encounter', 'error', '5.8.', 'can', 'not', 'play', 'downloaded', 'videos', 'offline', 'terrible', 'click', 'to', 'open', 'it', 'flashes', 'then', 'closes', ',', 'bad', 'bad', 'app', '.', 'the', 'problem', 'in', 'netflix', 'not', 'easy', 'to', 'create', 'account', 'household', 'wifi', 'sucks', 'not', 'very', 'good', 'bad', 'bad', 'bad', 'baa', 'bar', 'bad', 'bad', 'bad', 'bad', 'bad', 'bad', 'it', 'not', 'have', 'paytm', 'payment', 'method.it', 'have', 'only', 'credit', 'card', 'or', 'debit', 'card', 'payment', 'method', '.', 'broken', '.', 'i', 'get', 'audio', 'but', 'no', 'video', '.', 'errors', 'errors', 'errors', '.', '-1000.', 'not', 'connecting', 'no', 'old', 'movies', ',', 'no', 'classics', ',', 'series', 'disappear', '.', '👎', 'sometimes', 'freezes', ',', 'always', 'at', 'the', 'worst', 'times', '.', 'error', '!', 'error', '!', 'error', '.....', 'could', 'not', 'log', 'in', '🤦', 'no', 'changes', 'but', 'constantly', 'updating', '.', 'suspicious', '!', 'terrible', 'documentaries', 'and', 'continuously', 'bad', 'decisions', '.', 'awful', 'bad', 'selection', 'of', 'movies', 'and', 'awful', 'netflix', 'originals', '.', 'provides', 'falsified', 'information', 'and', 'misguided', 'news', 'deliberately', '.', 'not', 'trust', 'worthy', '.', 'bad', 'level', 'of', 'interface', 'bad', 'for', 'content', 'consumption', '.', 'bad', 'content', 'no', 'kannada', 'language', 'worst', 'application', 'loading', 'error', 'always', 'always', 'trouble', 'shooting', ',', 'worst', 'app', 'no', 'annual', 'subscription', '..', 'very', 'high', 'pricing', '..', 'worthless', '.', 'will', 'not', 'play', 'anything', 'lately', '.', 'very', 'frustrating', 'and', 'disappointing', 'very', 'bad', 'experience', '.', 'wo', \"n't\", 'accept', 'rupay', 'cards', '.', 'worst', 'quality', '..', 'broken', 'ui', ',', 'enormous', 'stability', 'problems', '.', 'bad', '!', '!', '!', '!', 'keeps', 'losing', 'my', 'downloads', '!', '!', '!', '!', '!', '!', '!', '!', 'waste', 'of', 'data', '!', '!', '!', '!', '!', '!', '!', '!', '!', '!', '!', '!', '!', '!', 'poor', 'service', 'ca', \"n't\", 'play', 'on', 'all', 'screens', '.', 'tired', 'of', 'the', 'forced', 'agenda', '!', '!', '!', '!', 'movie', 'did', \"n't\", 'play', ',', 'kept', 'giving', 'error', 'message', '.', 'can', 'not', 'control', 'brightness', ',', 'very', 'frustrating', 'very', 'bad', 'app', ',', 'very', 'bad', 'ideas', ',', 'layersssss', 'having', 'so', 'much', 'problem', 'with', 'android', '!', '!', '!', 'very', 'poor', 'app', 'worst', 'app', 'video', 'is', 'pause', 'automatic', 'it', \"'s\", 'very', 'frustrating', 'a', 'very', ',', 'very', 'bad', 'program', 'and', 'a', 'liar', ',', 'and', 'i', 'do', 'not', 'recommend', 'downloading', 'it', 'very', 'poor', 'app', '😞', 'stupid', 'always', 'with', 'problems', '!', 'regret', 'to', 'subscribed', 'ths', 'unworthy', 'apps', '!', '!', 'app', 'is', 'not', 'working', 'and', 'giving', 'error', 'of', 'device', 'failure', 'occured', 'the', 'worst', 'application', 'for', 'movies', ',', 'silly', 'movies', ',', 'and', 'bad', 'quality', 'lagging', 'awful', 'update', '!', 'the', 'layout', 'is', 'so', 'frustrating', '.', 'uninstall', '..', 'cancel', 'subscription', '..', 'stop', 'telling', 'fake', 'history', '&', 'supporting', 'useless', 'cases', 'so', 'bad', 'quality', 'and', 'the', 'sound', 'is', 'too', 'bad', 'worst', 'server', ',', 'i', 'dont', 'understand', 'why', 'device', 'register', 'failure', 'error', 'occurs', 'bad', 'experience', '.', 'i', 'was', 'very', 'unhappy', 'in', 'this', 'app', '.poor', 'app', 'i', 'do', \"n't\", 'like', 'it', '..', 'very', 'bad', 'experience', 'keeps', 'crashing', '...', 'absolutely', 'useless', '.', 'worst', 'experience', '(', 'ಕನ್ನಡಿಗ', ')', 'cant', 'create', 'an', 'account', 'it', \"'s\", 'annoying', 'allright', 'when', 'working', 'but', 'non', 'stop', 'device', 'failure', 'so', 'so', 'bad', '.', 'all', 'bad', '.', 'used', 'to', 'not', 'be', 'bad', '.', 'but', 'now', 'is', 'bad', '.', 'bad', 'experience', 'after', 'update', 'and', 'bad', 'bad', 'interface', '2', 'same', 'lagging', 'issue', 'lots', 'of', 'problems', 'boring', 'and', 'very', 'bad', '👎', 'new', 'household', 'feature', 'is', 'worst', 'completely', 'ruined', 'the', 'app', 'poor', 'experience', '..', 'bad', 'service', 'becoming', 'worst', 'app', 'ever', '..', 'horrid', 'changed', 'password', '3', 'times', ',', 'and', 'it', 'says', 'wrong', 'password', '!', 'new', 'updated', 'interface', 'is', 'awful', 'awful', 'awful', 'struggle', 'to', 'work', 'after', 'a', 'power', 'failure', 'i', 'dislike', 'netflix', 'weak', 'experience', '.', 'weak', 'list', 'of', 'movies', 'the', 'worst', 'app', '!', 'there', \"'s\", 'always', 'an', 'error', '5.7', 'low', 'quality', 'movies', '.', 'terrible', 'amount', 'of', 'ads', 'it', 'is', 'terrible', 'whats', 'up', 'with', 'the', 'mobile', 'games', 'a', 'giant', 'hell', 'to', 'the', 'no-', 'subscription', 'cancelled', '.', 'worst', 'app', 'ever', 'seen', '.', 'user', 'experience', 'is', 'the', 'worst', '.', 'it', 'is', 'very', 'difficult', 'to', 'pay', 'no', 'good', 'content', '.', 'spreading', 'propaganda', 'and', 'lies', '.', 'always', 'cant', 'play', 'the', 'video', '``', 'error', '7.4', \"''\", 'blah', 'blahh', 'this', 'is', 'so', 'suck', '.', 'absolutely', 'hate', 'the', 'new', 'format', '.', 'terrible', 'design', 'no', 'password', 'sharing', ',', 'bad', 'content', ',', 'even', 'worse', 'originals', 'i', 'have', 'no', 'idea', 'what', \"'s\", 'wrong', 'with', 'this', 'app', ',', 'the', 'lag', 'is', 'so', 'insane', 'it', \"'s\", 'sad', '.', 'netflix', 'is', 'dead', '.', 'zero', 'good', 'content', '.', 'horrible', 'shows', '.', 'dreadfully', 'slow', 'loading', 'app', 'and', 'awful', 'content', '.', 'very', 'lousy', 'app', '.', 'very', 'annoying', 'and', 'glitchy', '.', 'not', 'working', '.', 'getting', 'device', 'failure', 'error', '.', '501-109', 'crappy', 'app', 'with', 'limited', 'functionality', '.', 'very', 'disappointed', '.', 'worst', 'and', 'costliest', 'does', \"n't\", 'work', 'easily', '.', 'very', 'bad', 'processing', 'hate', 'adds', 'going', 'to', 'cancel', 'my', 'subscription', 'subtitles', 'are', 'consistently', 'wrong', '.', 'no', 'kannada', 'no', 'netflix', 'fu', 'you', 'ca', \"n't\", 'play', 'with', 'play', 'button', 'after', 'pause', '..', 'disgusting', 'amazing', 'no', 'ads', 'no', 'interruptions', 'just', 'films', 'its', 'stops', 'automatically', 'with', 'error', 'code', 'worst', 'payment', 'method', 'worst', 'very', 'bad', 'app', 'keeps', 'on', 'stopping', 'so', 'is', 'so', 'frustrating', 'can', 'not', 'open', 'this', 'worthless', 'app', '.', 'cancelling', 'netflix', 'it', 'keeps', 'stopping', '..', 'so', 'frustrating', '!', '!', 'hd', 'quality', 'is', 'poor', '.', 'disappointed', '.', 'this', 'is', 'worst', 'application', '.', 'everytime', '5.8', 'error', 'and', '5.10', 'error', 'very', 'bad', 'developer', 'team', 'i', 'hate', 'you', 'netflix', 'ffs', 'stop', 'changing', 'the', 'menu', 'system', '.', 'the', 'worst', '.', 'constant', 'device', 'failure', 'renders', 'downloads', 'useless', '.', 'no', 'skip', 'forward', 'button', '.', 'ridiculous', '.', 'this', 'apps', 'sucks', '.', 'i', 'hate', 'netflix', '!', '!', '!', '!', '!', '!', '!', '!', '!', '!', '!', '🤬😡', 'getting', 'worse', 'and', 'worse', '.', 'worst', 'app', 'ever', 'i', 'hate', 'this', 'app', 'worst', 'app', 'ever', 'very', 'bad', 'app', 'the', 'app', 'freezes', 'every', 'now', 'and', 'then', '.', 'worst', 'developers', 'worst', 'app', 'worst', 'app', 'this', 'app', 'stream', 'religious', 'hurts', 'sentiments', 'movie', 'charges', 'very', 'high', ',', 'quality', 'very', 'low', 'no', 'kannada', 'language', 'getting', 'horrible', 'experience', 'with', 'always', 'error', 'codes', '.']\n",
      "[(('worst', 'app'), 51), (('bad', 'bad'), 42), (('bad', 'app'), 22), (('horrible', 'horrible'), 15), (('app', 'ever'), 14), (('ca', \"n't\"), 13), (('app', 'worst'), 12), (('bad', 'experience'), 12), (('bad', 'worst'), 10), (('app', 'bad'), 10)]\n"
     ]
    }
   ],
   "source": [
    "\n",
    "# Filtering negative comments\n",
    "negative_comments = vaders[vaders['neg'] > 0.5]  # Adjust threshold as needed\n",
    "\n",
    "# Concatenating negative comments into one text string\n",
    "negative_texts = ' '.join(negative_comments['content'].dropna())\n",
    "\n",
    "# Tokenizing the negative text\n",
    "tokens = word_tokenize(negative_texts.lower())\n",
    "print(tokens)\n",
    "\n",
    "# Removing stopwords and punctuation\n",
    "stop_words = set(stopwords.words('english'))\n",
    "tokens_clean = [word for word in tokens if word not in stop_words and word not in string.punctuation]\n",
    "\n",
    "# Generating bigrams (can adjust for n-grams with n > 2)\n",
    "bigrams = ngrams(tokens_clean, 2)\n",
    "\n",
    "# Counting the most common bigrams\n",
    "bigram_fdist = FreqDist(bigrams)\n",
    "\n",
    "# Showing the 10 most common bigrams\n",
    "print(bigram_fdist.most_common(10))\n"
   ]
  },
  {
   "cell_type": "markdown",
   "metadata": {},
   "source": [
    "TEXTBLOB"
   ]
  },
  {
   "cell_type": "code",
   "execution_count": null,
   "metadata": {},
   "outputs": [],
   "source": [
    "# Running TextBlob sentiment analysis\n",
    "resTextBlob = {}\n",
    "for i, row in df.iterrows():\n",
    "    text = row[\"content\"]\n",
    "    myid = row[\"reviewId\"]\n",
    "    resTextBlob[myid] = TextBlob(row[\"content\"]).sentiment"
   ]
  },
  {
   "cell_type": "code",
   "execution_count": null,
   "metadata": {},
   "outputs": [
    {
     "data": {
      "text/html": [
       "<div>\n",
       "<style scoped>\n",
       "    .dataframe tbody tr th:only-of-type {\n",
       "        vertical-align: middle;\n",
       "    }\n",
       "\n",
       "    .dataframe tbody tr th {\n",
       "        vertical-align: top;\n",
       "    }\n",
       "\n",
       "    .dataframe thead th {\n",
       "        text-align: right;\n",
       "    }\n",
       "</style>\n",
       "<table border=\"1\" class=\"dataframe\">\n",
       "  <thead>\n",
       "    <tr style=\"text-align: right;\">\n",
       "      <th></th>\n",
       "      <th>reviewId</th>\n",
       "      <th>polarity</th>\n",
       "      <th>subjectivity</th>\n",
       "      <th>userName</th>\n",
       "      <th>content</th>\n",
       "      <th>score</th>\n",
       "      <th>thumbsUpCount</th>\n",
       "      <th>reviewCreatedVersion</th>\n",
       "      <th>at</th>\n",
       "      <th>appVersion</th>\n",
       "    </tr>\n",
       "  </thead>\n",
       "  <tbody>\n",
       "    <tr>\n",
       "      <th>0</th>\n",
       "      <td>fad76646-9d91-47d6-ae0e-f34d65722100</td>\n",
       "      <td>0.500000</td>\n",
       "      <td>0.500000</td>\n",
       "      <td>Usman Pk</td>\n",
       "      <td>Ok</td>\n",
       "      <td>5</td>\n",
       "      <td>0</td>\n",
       "      <td>NaN</td>\n",
       "      <td>2024-11-11 13:16:56</td>\n",
       "      <td>NaN</td>\n",
       "    </tr>\n",
       "    <tr>\n",
       "      <th>1</th>\n",
       "      <td>689ea35c-4290-4b6f-ba50-b3f5e883126c</td>\n",
       "      <td>0.633333</td>\n",
       "      <td>0.716667</td>\n",
       "      <td>Alexander Jiménez</td>\n",
       "      <td>I think this is an amazing app u can watch man...</td>\n",
       "      <td>4</td>\n",
       "      <td>0</td>\n",
       "      <td>8.139.1 build 24 51108</td>\n",
       "      <td>2024-11-11 13:10:12</td>\n",
       "      <td>8.139.1 build 24 51108</td>\n",
       "    </tr>\n",
       "    <tr>\n",
       "      <th>2</th>\n",
       "      <td>180f6abf-02d1-4e26-9061-307bff63d93d</td>\n",
       "      <td>0.066667</td>\n",
       "      <td>0.516667</td>\n",
       "      <td>Darius Blizzard</td>\n",
       "      <td>Great app, just can't play Into the dead 2: Un...</td>\n",
       "      <td>4</td>\n",
       "      <td>0</td>\n",
       "      <td>8.139.1 build 24 51108</td>\n",
       "      <td>2024-11-11 13:09:26</td>\n",
       "      <td>8.139.1 build 24 51108</td>\n",
       "    </tr>\n",
       "    <tr>\n",
       "      <th>3</th>\n",
       "      <td>b30ae633-ed3b-4ebd-a8b4-4d9ff929f6de</td>\n",
       "      <td>0.200000</td>\n",
       "      <td>0.300000</td>\n",
       "      <td>Nathan Shotter</td>\n",
       "      <td>Real ii64</td>\n",
       "      <td>5</td>\n",
       "      <td>0</td>\n",
       "      <td>8.139.1 build 24 51108</td>\n",
       "      <td>2024-11-11 13:07:39</td>\n",
       "      <td>8.139.1 build 24 51108</td>\n",
       "    </tr>\n",
       "    <tr>\n",
       "      <th>4</th>\n",
       "      <td>9cf63d64-30df-448d-bfa5-58aa8aae8d1c</td>\n",
       "      <td>0.083333</td>\n",
       "      <td>0.633333</td>\n",
       "      <td>Masego Mnguni</td>\n",
       "      <td>I love Netflix it has serious and movies</td>\n",
       "      <td>5</td>\n",
       "      <td>0</td>\n",
       "      <td>NaN</td>\n",
       "      <td>2024-11-11 13:01:28</td>\n",
       "      <td>NaN</td>\n",
       "    </tr>\n",
       "  </tbody>\n",
       "</table>\n",
       "</div>"
      ],
      "text/plain": [
       "                               reviewId  polarity  subjectivity  \\\n",
       "0  fad76646-9d91-47d6-ae0e-f34d65722100  0.500000      0.500000   \n",
       "1  689ea35c-4290-4b6f-ba50-b3f5e883126c  0.633333      0.716667   \n",
       "2  180f6abf-02d1-4e26-9061-307bff63d93d  0.066667      0.516667   \n",
       "3  b30ae633-ed3b-4ebd-a8b4-4d9ff929f6de  0.200000      0.300000   \n",
       "4  9cf63d64-30df-448d-bfa5-58aa8aae8d1c  0.083333      0.633333   \n",
       "\n",
       "            userName                                            content  \\\n",
       "0           Usman Pk                                                 Ok   \n",
       "1  Alexander Jiménez  I think this is an amazing app u can watch man...   \n",
       "2    Darius Blizzard  Great app, just can't play Into the dead 2: Un...   \n",
       "3     Nathan Shotter                                          Real ii64   \n",
       "4      Masego Mnguni           I love Netflix it has serious and movies   \n",
       "\n",
       "   score  thumbsUpCount    reviewCreatedVersion                   at  \\\n",
       "0      5              0                     NaN  2024-11-11 13:16:56   \n",
       "1      4              0  8.139.1 build 24 51108  2024-11-11 13:10:12   \n",
       "2      4              0  8.139.1 build 24 51108  2024-11-11 13:09:26   \n",
       "3      5              0  8.139.1 build 24 51108  2024-11-11 13:07:39   \n",
       "4      5              0                     NaN  2024-11-11 13:01:28   \n",
       "\n",
       "               appVersion  \n",
       "0                     NaN  \n",
       "1  8.139.1 build 24 51108  \n",
       "2  8.139.1 build 24 51108  \n",
       "3  8.139.1 build 24 51108  \n",
       "4                     NaN  "
      ]
     },
     "execution_count": 53,
     "metadata": {},
     "output_type": "execute_result"
    }
   ],
   "source": [
    "# Converting to dataframe and merging it with the original dataframe by 'reviewId'\n",
    "Blob = pd.DataFrame(resTextBlob).T\n",
    "Blob = Blob.reset_index().rename(columns={\"index\": \"reviewId\", 0: \"polarity\", 1: \"subjectivity\"})\n",
    "Blob = Blob.merge(df, how=\"left\")\n",
    "Blob.head()"
   ]
  },
  {
   "cell_type": "code",
   "execution_count": null,
   "metadata": {},
   "outputs": [
    {
     "data": {
      "text/plain": [
       "Text(0.5, 1.0, 'Compound score by Netflix')"
      ]
     },
     "execution_count": 76,
     "metadata": {},
     "output_type": "execute_result"
    },
    {
     "data": {
      "image/png": "[encoded data removed]",
      "text/plain": [
       "<Figure size 640x480 with 1 Axes>"
      ]
     },
     "metadata": {},
     "output_type": "display_data"
    }
   ],
   "source": [
    "# Plotting TEXBLOB results\n",
    "ax = sns.barplot(data=Blob, x=\"score\", y=\"polarity\")\n",
    "ax.set_title(\"Compound score by Netflix\")"
   ]
  }
 ],
 "metadata": {
  "kernelspec": {
   "display_name": "base",
   "language": "python",
   "name": "python3"
  },
  "language_info": {
   "codemirror_mode": {
    "name": "ipython",
    "version": 3
   },
   "file_extension": ".py",
   "mimetype": "text/x-python",
   "name": "python",
   "nbconvert_exporter": "python",
   "pygments_lexer": "ipython3",
   "version": "3.12.7"
  }
 },
 "nbformat": 4,
 "nbformat_minor": 2
}
